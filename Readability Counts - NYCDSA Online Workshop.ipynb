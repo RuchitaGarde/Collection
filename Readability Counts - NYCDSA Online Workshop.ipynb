{
 "cells": [
  {
   "cell_type": "markdown",
   "metadata": {},
   "source": [
    "<img src=\"https://static.spacecrafted.com/cb0d364909d24dda9229292f57656d38/i/e36dc24e36ab42d88109b8366d596ff1/1/4SoifmQp45JMgBnHp7ed2/NYCDSA.png\" width=450 align='center'>"
   ]
  },
  {
   "cell_type": "code",
   "execution_count": 2,
   "metadata": {},
   "outputs": [
    {
     "name": "stdout",
     "output_type": "stream",
     "text": [
      "1: first\n",
      "2: second\n",
      "3: third\n"
     ]
    }
   ],
   "source": [
    "# Example 1\n",
    "words = ['first', 'second', 'third']\n",
    "for idx, word in enumerate(words, 1):\n",
    "    print(f'{idx}: {word}')"
   ]
  },
  {
   "cell_type": "code",
   "execution_count": 3,
   "metadata": {},
   "outputs": [
    {
     "name": "stdout",
     "output_type": "stream",
     "text": [
      "{'January': 31, 'February': 28, 'March': 31}\n"
     ]
    }
   ],
   "source": [
    "# Example 2\n",
    "months = ['January', 'February', 'March']\n",
    "days = [31, 28, 31]\n",
    "days_dict = dict(zip(months, days))\n",
    "print(days_dict)"
   ]
  },
  {
   "cell_type": "markdown",
   "metadata": {},
   "source": [
    "# Readability Counts: Best Practices in Python Coding"
   ]
  },
  {
   "cell_type": "markdown",
   "metadata": {},
   "source": [
    "## Introduction"
   ]
  },
  {
   "cell_type": "markdown",
   "metadata": {},
   "source": [
    "Thank you for joining this **NYC Data Science Academy** session! Today we will be discussing different ways you can format and structure your Python code so that it aligns with common **best coding practices**. Using these best practices is very important because your code will be more interpretable by others (and yourself). Colleagues will consider you a more suitable team member which will aid in collaboration within a company and on team projects. The importance of this cannot be overstated. Follow the best practices we discuss today so that you are a more attractive candidate or colleague in the industry!"
   ]
  },
  {
   "cell_type": "markdown",
   "metadata": {},
   "source": [
    "If you are interested in learning more about the different tools available for use in Python, please check out our [**Residential Bootcamp**](https://nycdatascience.com/data-science-bootcamp/), [**Online Bootcamp**](https://nycdatascience.com/online-data-science-bootcamp/) and [**Professional Development**](https://nycdatascience.com/course-bundles/) programs. You can also email questions to our Admissions team at admissions@nycdatascience.com."
   ]
  },
  {
   "cell_type": "markdown",
   "metadata": {},
   "source": [
    "### Topics we will cover today:\n",
    "- <a href=\"#interpretable\">Why Write Interpretable Code?</a>\n",
    "- <a href=\"#naming\">Naming Conventions</a>\n",
    "- <a href=\"#documentation\">Documentation</a>\n",
    "- <a href=\"#beautiful\">Beautiful is Better than Ugly</a>\n",
    "- <a href=\"#explicit\">Explicit is Better than Implicit</a>\n",
    "- <a href=\"#simple\">Simple is Better than Complex</a>\n",
    "- <a href=\"#flat\">Flat is Better than Nested</a>\n",
    "- <a href=\"#sparse\">Sparse is Better than Dense</a>\n",
    "- <a href=\"#errors\">Errors Should Never Pass Silently</a>\n",
    "- <a href=\"#ambiguity\">In the Face of Ambiguity, Refuse the Temptation to Guess</a>\n",
    "- <a href=\"#hardtoexplain\">If the Implementation is Hard to Explain, It's a Bad Idea</a>\n",
    "- <a href=\"#now\">Now is Better than Never"
   ]
  },
  {
   "cell_type": "markdown",
   "metadata": {},
   "source": [
    "<a name='interpretable'></a>\n",
    "\n",
    "## Why Write Interpretable Code?\n",
    "\n",
    "One of the key strengths of a programming language such as Python is how it can be used in a **collaborative** way. This is most obviously evident when we import modules and packages to use in our own work. Even when we write code that we don't intend to be used by others, we don't want to write it just for our \"current\" selves. We want to make sure that we will be able to easily pick up where we left off when we use the code in the future. Uniformly adhering to **good coding practices** will also help your syntax stay consitent no matter what or who your code is intended for.\n",
    "\n",
    "Guido van Rossum, the creator of Python, once said that \"**code is read much more often than it is written**.\" It is important to keep this in mind when we design our code because the success of your work may rely on how easily someone else can read and use it, not on how cleverly or efficiently it accomplishes the intended purpose.\n",
    "\n",
    "To help Python coders maintain a unviersal standard of coding convention, van Rossum and a few other Python experts developed a series of documents called the **Python Enhancement Proposals**, or **PEPs**, which cover a range of different topics including Python development, backwards compatibility, style, and debugging. One of the most well-known PEPs is the **PEP8 Style Guide for Python Code**."
   ]
  },
  {
   "cell_type": "markdown",
   "metadata": {},
   "source": [
    "Another Python expert, Tim Peters, summarizes many of the key takeaways from the PEPs in a sort of Python poem. This poem is a PEP itself (PEP20) and is titled **\"The Zen of Python.\"** We can access PEP20 using the following command:"
   ]
  },
  {
   "cell_type": "code",
   "execution_count": null,
   "metadata": {
    "collapsed": true
   },
   "outputs": [],
   "source": [
    "import this"
   ]
  },
  {
   "cell_type": "markdown",
   "metadata": {},
   "source": [
    "In this session, we will look more closely at a few of these aphorisms and consider some examples for each to show how to write code that embodies the essence of \"The Zen of Python.\""
   ]
  },
  {
   "cell_type": "markdown",
   "metadata": {},
   "source": [
    "<a name='naming'></a>\n",
    "\n",
    "## Naming Conventions\n",
    "\n",
    "Although naming convention isn't specifically addressed in Peters' collection of aphorisms, this is an important topic that is under the umbrella of a number of the key ideas above. There are a myriad of ways to name objects in Python, but **some ways are definitely better than others**. Some common paradigms are:\n",
    "\n",
    "- `x`: single lowercase\n",
    "- `X`: single uppercase\n",
    "- `lowercase`\n",
    "- `lower_case_with_underscores`\n",
    "- `UPPERCASE`\n",
    "- `UPPER_CASE_WITH_UNDERSCORES`\n",
    "- `CapitalizedWords`: also known as CamelCase\n",
    "- `mixedCase`: first word lower case, following words upper case\n",
    "\n",
    "In addition to the options above, there are other naming conventions in Python that have special meanings:\n",
    "\n",
    "- `_single_leading_underscore`: weak \"internal use\" indicator, e.g. `from module import *` does not import objects whose names start with an underscore.\n",
    "- `single_trailing_underscore_`: used by convention to avoid conflicts with Python keywords.\n",
    "- `__double_leading_underscore`: when naming a class attribute, invokes name mangling (inside class `FooBar`, `__boo` becomes `_FooBar__boo`).\n",
    "- `__double_leading_and_trailing_underscore__`: \"magic\" objects or attributes that live in user-controlled namespaces, e.g. `__init__`, `__add__`, or `__str__`. These are also called \"special name methods.\" Never invent such names; only use them as documented.\n",
    "\n",
    "Now that we know these different paradigms, let's talk about when to use them."
   ]
  },
  {
   "cell_type": "markdown",
   "metadata": {},
   "source": [
    "### Names to Avoid\n",
    "\n",
    "Never use the characters `l` (lowercase letter el), `O` (uppercase letter oh), or `I` (uppercase letter eye) as single character variable names. Depending on the font you use, these characters can be **indistinguishable** from the numbers one and zero. If you must use `l`, use `L` instead.\n",
    "\n",
    "You should **avoid using Python keywords and built-in function/class names as variables names**. Names such as `max`, `sum`, `class`, `list`, and others should be avoided. When these names must be used, end the name with a **single underscore** to differentiate it, such as `list_`."
   ]
  },
  {
   "cell_type": "markdown",
   "metadata": {},
   "source": [
    "### Modules and Packages\n",
    "\n",
    "Modules should have short, all-lowercase names. Underscores can be used in the module name if it improves readability. Python packages should follow the same convention, although use of underscores in packages names is discouraged."
   ]
  },
  {
   "cell_type": "markdown",
   "metadata": {},
   "source": [
    "### Variables and Functions\n",
    "\n",
    "Variable and function names should be lowercase. Individual words can be separated by underscores when needed to improve readability. Method names should follow the same convention as function names.\n",
    "\n",
    "Constants should be represented by all captial letters, separated by underscores when needed to improve readability.\n",
    "\n",
    "Additionally, use names that are representative of the meaning of the object rather than meaningless, single-character names. In general, the names `i`, `j`, and `k` should be **reserved for representing index values**."
   ]
  },
  {
   "cell_type": "code",
   "execution_count": null,
   "metadata": {
    "collapsed": true
   },
   "outputs": [],
   "source": [
    "# Bad\n",
    "\n",
    "# 1\n",
    "l = 16         # Not descriptive and poor character choice\n",
    "list_of_values_to_hold = ['a', 'b', 'c'] # Too long\n",
    "list = [1,2,3] # Overwrites the built-in list function\n",
    "Variable = 5   # Incorrect use of uppercase (see Classes, Object/Class Methods, and Arguments)\n",
    "\n",
    "# 2\n",
    "def func(x):   # Not descriptive\n",
    "    return x*2\n",
    "\n",
    "# 3\n",
    "z = [1,2,3,4,5] # Not descriptive\n",
    "for x, y in enumerate(z): # Poor choice of dummy variable names\n",
    "    print(x, y)"
   ]
  },
  {
   "cell_type": "code",
   "execution_count": 1,
   "metadata": {
    "scrolled": true
   },
   "outputs": [
    {
     "name": "stdout",
     "output_type": "stream",
     "text": [
      "0 1\n",
      "1 2\n",
      "2 3\n",
      "3 4\n",
      "4 5\n"
     ]
    }
   ],
   "source": [
    "# Good\n",
    "\n",
    "# 1\n",
    "tax = .125\n",
    "price = 49.99\n",
    "total_price = price * (price*tax)\n",
    "\n",
    "PI = 3.14159265359\n",
    "SPEED_OF_LIGHT = 3e8\n",
    "\n",
    "# 2\n",
    "def price_after_tax(price, tax):\n",
    "    \"\"\"\n",
    "    Returns the price of the item \n",
    "    after tax has been added.\n",
    "    \"\"\"\n",
    "    return price + (price*tax)\n",
    "\n",
    "# 3\n",
    "ex_list = [1,2,3,4,5]\n",
    "for i, val in enumerate(ex_list):\n",
    "    print(i, val)"
   ]
  },
  {
   "cell_type": "markdown",
   "metadata": {},
   "source": [
    "### Classes, Object/Class Methods, and Arguments\n",
    "\n",
    "Class names should use the CapWords or CamelCase convention. There are exceptions to this, but for the most part you should follow this convention.\n",
    "\n",
    "Object methods should always use `self` as the first argument. If another object will be called in the method, that object should be referred to as `other`.\n",
    "\n",
    "Class methods should always use `cls` as the first argument."
   ]
  },
  {
   "cell_type": "code",
   "execution_count": null,
   "metadata": {
    "collapsed": true
   },
   "outputs": [],
   "source": [
    "# Bad\n",
    "\n",
    "class pythonVector(object):    # Wrong naming convention\n",
    "    def __init__(obj, coords): # Wrong object naming convention\n",
    "        obj.coords = coords\n",
    "    \n",
    "    def __eq__(obj1, obj2):    # Wrong other object naming convention\n",
    "        return obj1.coords == obj2.coords\n",
    "    \n",
    "    def __notmagic__(obj):     # Don't invent special name methods\n",
    "        pass\n",
    "    \n",
    "    @classmethod\n",
    "    def from_string(some_arg, string_coords): # Wrong cls naming convention\n",
    "        try:\n",
    "            as_float_list = [float(val) for val in string_coords.split()]\n",
    "        except:\n",
    "            pass # Don't pass exceptions silently! More on this later.\n",
    "        \n",
    "        return some_arg(as_float_list)\n",
    "\n",
    "class some_weird_class(object): # Wrong naming convention\n",
    "    pass"
   ]
  },
  {
   "cell_type": "code",
   "execution_count": null,
   "metadata": {
    "collapsed": true
   },
   "outputs": [],
   "source": [
    "# Good\n",
    "\n",
    "class Vector(object):\n",
    "    def __init__(self, coords):\n",
    "        self.coords = coords\n",
    "    \n",
    "    def __eq__(self, other):\n",
    "        \"\"\"\n",
    "        Checks if two Vector objects are equivalent.\n",
    "        Called when using the == operator.\n",
    "        \n",
    "        Args:\n",
    "            self: One Vector object -> Vector\n",
    "            other: Another Vector object -> Vector\n",
    "            \n",
    "        Return:\n",
    "            True or False based on the equivalency of the Vectors -> bool\n",
    "        \"\"\"\n",
    "        return self.coords == other.coords\n",
    "    \n",
    "    @classmethod\n",
    "    def from_string(cls, string_coords):\n",
    "        \"\"\"\n",
    "        Creates an object of the Vector class using a string\n",
    "        of coordinates, separated by spaces.\n",
    "        \n",
    "        Args:\n",
    "            cls: The class constructor -> class\n",
    "            string_coords: A string of coordinates, separated by spaces -> string\n",
    "        \"\"\"\n",
    "        try: # Attempt to parse coordinates from string\n",
    "            as_float_list = [float(val) for val in string_coords.split()]\n",
    "        except:\n",
    "            raise ValueError('Could not parse coordinates from given string!')\n",
    "        \n",
    "        # If coordinate parsing passes, return new object instance\n",
    "        return cls(as_float_list)"
   ]
  },
  {
   "cell_type": "markdown",
   "metadata": {},
   "source": [
    "<a name='documentation'></a>\n",
    "\n",
    "## Documentation\n",
    "\n",
    "**Clear and complete** documentation is essential when you are writing code that will be read and used by other programmers. You can think of code documentation as a **mini instruction manual**. Make sure to describe the function of your code, what it expects as input, and what the user should expect as output.\n",
    "\n",
    "**Code commenting** is another great habit when you want to explain your thought process or what a certain piece of code is doing. However, be careful not to overcomment your code, as the syntax can quickly become cluttered and have the opposite effect."
   ]
  },
  {
   "cell_type": "markdown",
   "metadata": {},
   "source": [
    "### Docstring\n",
    "\n",
    "Docstring is a long string used to describe what a function, method, or class does. Note that the docstring should not describe _how_ a function or class works, but rather **what it does and how to use it**. The long string should be the first line beneath the class, method, or function definition.\n",
    "\n",
    "The example below shows docstring for both a class and the methods within the class. Docstring is written for a function in the same way as it is written for a method."
   ]
  },
  {
   "cell_type": "code",
   "execution_count": null,
   "metadata": {
    "collapsed": true
   },
   "outputs": [],
   "source": [
    "# Good\n",
    "\n",
    "class Dog(object):\n",
    "    \"\"\"\n",
    "    A class representing a pet dog. The Dog object has\n",
    "    the following attributes:\n",
    "    \n",
    "    name: Name of the pet dog -> str\n",
    "    breed: Breed of the pet dog -> str\n",
    "    age: Age of the pet dog -> int\n",
    "    \n",
    "    The Dog class has the following methods:\n",
    "    \n",
    "    __init__: Initializes a new Dog object\n",
    "    __str__: Returns the string representation of the Dog object\n",
    "    walk_the_dog: Prints that the dog has been walked\n",
    "    dog_years: Returns the dog's age in dog years\n",
    "    \"\"\"\n",
    "    \n",
    "    def __init__(self, name, breed, age):\n",
    "        \"\"\"\n",
    "        Initializes a Dog object\n",
    "        \n",
    "        Args:\n",
    "            name: Name of the pet dog -> str\n",
    "            age: Age of the pet dog -> int\n",
    "            breed: Breed of the pet dog -> str\n",
    "        \n",
    "        Return:\n",
    "            Object instance of type Dog -> Dog\n",
    "        \"\"\"\n",
    "        self.name = name\n",
    "        self.age = age\n",
    "        self.breed = breed\n",
    "        \n",
    "    def __str__(self):\n",
    "        \"\"\"\n",
    "        Returns the string representation of the Dog object.\n",
    "        \n",
    "        Args:\n",
    "            self: The Dog object the method is called on -> Dog\n",
    "        \n",
    "        Return:\n",
    "            String representation of the Dog object -> str\n",
    "        \"\"\"\n",
    "        return f'{self.name} the {self.breed}, age {self.age}'\n",
    "    \n",
    "    def walk_the_dog(self):\n",
    "        \"\"\"\n",
    "        Prints that the dog has been walked (intentionally simple).\n",
    "        \n",
    "        Args:\n",
    "            self: The Dog object the method is called on -> Dog\n",
    "        \n",
    "        Return:\n",
    "            None\n",
    "        \"\"\"\n",
    "        print(f'You walked {self}!')\n",
    "        \n",
    "    def dog_years(self):\n",
    "        \"\"\"\n",
    "        Returns the Dog object's age in dog years\n",
    "        \n",
    "        Args:\n",
    "            self: The Dog object the method is called on -> Dog\n",
    "        \n",
    "        Return:\n",
    "            Age in dog years -> int\n",
    "        \"\"\"\n",
    "        return self.age*7\n",
    "    \n",
    "fido = Dog('Fido', 'Husky', 6)\n",
    "print(fido)\n",
    "fido.walk_the_dog()\n",
    "fido.dog_years()"
   ]
  },
  {
   "cell_type": "markdown",
   "metadata": {},
   "source": [
    "**Note**: We added docstring for the special name method \\_\\_str\\_\\_. This may be unnecessary if the functionality of the method is not different from what one would expect in any other class."
   ]
  },
  {
   "cell_type": "markdown",
   "metadata": {},
   "source": [
    "### Commenting\n",
    "\n",
    "Use comments to **highlight portions of your code** that may be unclear to other programmers. The function below also includes docstring."
   ]
  },
  {
   "cell_type": "code",
   "execution_count": null,
   "metadata": {
    "collapsed": true
   },
   "outputs": [],
   "source": [
    "# Good\n",
    "\n",
    "def factorial(num):\n",
    "    \"\"\"\n",
    "    Returns the factorial of an integer.\n",
    "    \n",
    "    Args:\n",
    "        num: A whole number -> int\n",
    "    \n",
    "    Return:\n",
    "        The factorial of num -> int\n",
    "    \"\"\"\n",
    "    \n",
    "    # Base case\n",
    "    if num == 1:\n",
    "        return num\n",
    "    \n",
    "    # Recursive call of the function, until the base case is reached\n",
    "    return factorial(num-1)*num"
   ]
  },
  {
   "cell_type": "markdown",
   "metadata": {},
   "source": [
    "**Note**: We can access the docstring of a function in Jupyter Notebook by writing the function name followed by a `?`. This can be very useful when trying to understand how a function should be used, which is the point of writing docstring in the first place!"
   ]
  },
  {
   "cell_type": "code",
   "execution_count": 2,
   "metadata": {
    "collapsed": true
   },
   "outputs": [],
   "source": [
    "sum?"
   ]
  },
  {
   "cell_type": "markdown",
   "metadata": {},
   "source": [
    "<a name='beautiful'></a>\n",
    "\n",
    "## Beautiful is Better than Ugly\n",
    "\n",
    "Coding beautifully is one of the best ways you can make your code **more interpretable**. What does beautiful code look like? The syntax is **separated into logical sections**. There aren't **too many characters** on a single line (PEP8 suggests max 79 characters per line). **Indentation** is correct (this is actually necessary for Python). There is **correct and consistent spacing** between arguments in lists, dictionary, and functions and between operators and operands. All of this can help the reader **parse your syntax** in a logical way which will help them to understand the function of the code and how to use it.\n",
    "\n",
    "There are a few styles you can use to make your code more beautiful. As long as the style you choose is in the realm of acceptable convention, you can use whatever works best for you. However, it's very important to **be consistent with whatever style you use**. Don't swap between different styles throughout your code. **Always be consistent!**"
   ]
  },
  {
   "cell_type": "markdown",
   "metadata": {},
   "source": [
    "### Spacing\n",
    "\n",
    "It is important that you are cognizant of **how your code looks on the screen**. Code that has very few spaces and no lines spearating code chunks can be very **hard to read** and, therefore, hard to follow. It is good practice to add empty lines between statements or chunks of code. Don't overdo this, but it can be helpful to **separate thoughts** or steps in your code."
   ]
  },
  {
   "cell_type": "code",
   "execution_count": null,
   "metadata": {
    "collapsed": true
   },
   "outputs": [],
   "source": [
    "# Bad\n",
    "\n",
    "# Incorrect or inconsistent spacing\n",
    "first_sentence= \"This is a sentence with some words to count.\\n\"\n",
    "second_sentence =\"This is the second sentence, and it has a comma.\"\n",
    "full_sentence=first_sentence+ second_sentence\n",
    "def count_words (sentence): # Don't put spaces between function names and arguments!\n",
    "    punctuation_list=['.',',']\n",
    "    for punct in punctuation_list:\n",
    "        sentence=sentence.replace(punct,'')\n",
    "        \n",
    "    word_dict={}\n",
    "    for word in sentence.split():\n",
    "        word_dict[word]=word_dict.get(word,0)+1 \n",
    "    return word_dict\n",
    "\n",
    "count_words(full_sentence)"
   ]
  },
  {
   "cell_type": "code",
   "execution_count": 4,
   "metadata": {},
   "outputs": [
    {
     "name": "stdout",
     "output_type": "stream",
     "text": [
      "{'list': 1, 'of': 1, 'words': 1}\n"
     ]
    }
   ],
   "source": [
    "worddict = {}\n",
    "wordlist = [\"list\",\"of\",\"words\"]\n",
    "for word in wordlist:\n",
    "    worddict[word] = worddict.get(word,0)+1\n",
    "    \n",
    "print(worddict)"
   ]
  },
  {
   "cell_type": "code",
   "execution_count": null,
   "metadata": {
    "collapsed": true,
    "scrolled": true
   },
   "outputs": [],
   "source": [
    "# Good\n",
    "\n",
    "# Use consistent and correct spacing\n",
    "first_sentence = \"This is a sentence with some words to count.\\n\"\n",
    "second_sentence = \"This is the second sentence, and it has a comma.\"\n",
    "\n",
    "# Add lines between code chunks to separate ideas into logical segments\n",
    "full_sentence = first_sentence + second_sentence\n",
    "\n",
    "def count_words(sentence):\n",
    "    \"\"\"\n",
    "    Function that returns a dictionary containing the counts\n",
    "    of different words in a string. Removes punctuation.\n",
    "    \n",
    "    Args:\n",
    "        sentence: A string -> str\n",
    "    \n",
    "    Return:\n",
    "        A dictionary of word counts -> dict\n",
    "    \"\"\"\n",
    "    # Remove punctuation, just a few examples for simplicity\n",
    "    punctuation_list = ['.', ',']\n",
    "    for punct in punctuation_list:\n",
    "        sentence = sentence.replace(punct, '')\n",
    "        \n",
    "    # Create an empty dictionary and store each word as a\n",
    "    # key in the dictionary, with the value being the count.\n",
    "    word_dict = {}\n",
    "    for word in sentence.split():\n",
    "        word_dict[word] = word_dict.get(word, 0) + 1\n",
    "        \n",
    "    return word_dict"
   ]
  },
  {
   "cell_type": "code",
   "execution_count": 1,
   "metadata": {},
   "outputs": [
    {
     "name": "stdout",
     "output_type": "stream",
     "text": [
      "{'A': 2, 'big': 2, 'sentence': 1}\n"
     ]
    }
   ],
   "source": [
    "sentence = \"A A big big sentence\"\n",
    "\n",
    "word_dict = {}\n",
    "for word in sentence.split():\n",
    "    word_dict[word] = word_dict.get(word, 0) + 1\n",
    "        \n",
    "print(word_dict)"
   ]
  },
  {
   "cell_type": "markdown",
   "metadata": {},
   "source": [
    "In the bad example above, notice how everything is very crowded which makes it **difficult to delineate the different steps** in the code. Keep your code chunks in logical segments to make reading the code easier."
   ]
  },
  {
   "cell_type": "markdown",
   "metadata": {},
   "source": [
    "### Maximum Characters on a Line\n",
    "\n",
    "PEP8 suggests **no more than 79 characters** on a single line. However, if you don't want to count the characters of each of your lines, think about this: does your statement sound like a **run-on sentence** if you read the logic to yourself? If it does, split it up into separate lines.\n",
    "\n",
    "There is discussion about why this number in particular was chosen, and there are a few reasons. There are psychological implications in terms of reading comprehension based on line length. Also, many devices can show only around 80 characters on a single line (with a standard font). Using this convention for maximum line length helps to keep statements on a single line on the screen, even when people are setting up windows side by side on a monitor."
   ]
  },
  {
   "cell_type": "code",
   "execution_count": null,
   "metadata": {
    "collapsed": true
   },
   "outputs": [],
   "source": [
    "# Bad\n",
    "\n",
    "three_digit_prods = [number1 * number2 for number1 in range(100,1000) for number2 in range(100,1000)]"
   ]
  },
  {
   "cell_type": "code",
   "execution_count": 5,
   "metadata": {
    "scrolled": true
   },
   "outputs": [
    {
     "name": "stdout",
     "output_type": "stream",
     "text": [
      "[1, 2, 3, 4, 5, 6, 7, 8, 9, 2, 4, 6, 8, 10, 12, 14, 16, 18, 3, 6, 9, 12, 15, 18, 21, 24, 27, 4, 8, 12, 16, 20, 24, 28, 32, 36, 5, 10, 15, 20, 25, 30, 35, 40, 45, 6, 12, 18, 24, 30, 36, 42, 48, 54, 7, 14, 21, 28, 35, 42, 49, 56, 63, 8, 16, 24, 32, 40, 48, 56, 64, 72, 9, 18, 27, 36, 45, 54, 63, 72, 81]\n"
     ]
    }
   ],
   "source": [
    "# Good\n",
    "\n",
    "num_range1 = range(1,10)\n",
    "num_range2 = range(1,10)\n",
    "\n",
    "three_digit_prods = [number1 * number2 \n",
    "                     for number1 in num_range1\n",
    "                     for number2 in num_range2]\n",
    "\n",
    "print(three_digit_prods)"
   ]
  },
  {
   "cell_type": "markdown",
   "metadata": {},
   "source": [
    "When splitting up a statement that contains operators onto multiple lines, make sure the **operator preceeds the operand**."
   ]
  },
  {
   "cell_type": "code",
   "execution_count": null,
   "metadata": {
    "collapsed": true
   },
   "outputs": [],
   "source": [
    "# Bad\n",
    "\n",
    "total = (variable_one\n",
    "         + variable_two -\n",
    "         vairable_three *\n",
    "         variable_four)"
   ]
  },
  {
   "cell_type": "code",
   "execution_count": null,
   "metadata": {
    "collapsed": true
   },
   "outputs": [],
   "source": [
    "# Good\n",
    "\n",
    "total = (variable_one\n",
    "         + variable_two\n",
    "         - vairable_three\n",
    "         * variable_four)"
   ]
  },
  {
   "cell_type": "markdown",
   "metadata": {},
   "source": [
    "When splitting up a function call and its arguments onto multiple lines, make sure that the **indentation is aligned**."
   ]
  },
  {
   "cell_type": "code",
   "execution_count": null,
   "metadata": {
    "collapsed": true
   },
   "outputs": [],
   "source": [
    "# Bad\n",
    "\n",
    "def function(arg1, arg2,\n",
    "    arg3, arg4):\n",
    "    return some_stuff"
   ]
  },
  {
   "cell_type": "code",
   "execution_count": null,
   "metadata": {
    "collapsed": true
   },
   "outputs": [],
   "source": [
    "# Good\n",
    "\n",
    "def function(arg1, arg2,\n",
    "             arg3, arg4):\n",
    "    return some_stuff"
   ]
  },
  {
   "cell_type": "markdown",
   "metadata": {},
   "source": [
    "### Using Keywords\n",
    "\n",
    "Python includes **special keywords** that we can use to make our code easier to read. Some examples of these keywords are:\n",
    "\n",
    "- `and`\n",
    "- `or`\n",
    "- `not`\n",
    "- `is`\n",
    "\n",
    "These keywords help us write code that makes sense when read from a **human language perspective**. It makes our \"coding grammar\" easier to digest."
   ]
  },
  {
   "cell_type": "code",
   "execution_count": null,
   "metadata": {
    "collapsed": true
   },
   "outputs": [],
   "source": [
    "# Bad\n",
    "\n",
    "# 1\n",
    "if condition1 & condition2 | (not condition3):\n",
    "    print('Not pretty.')\n",
    "\n",
    "# 2\n",
    "if is_correct(a) & b == 10 | s == 'include':\n",
    "    print('Could be better.')"
   ]
  },
  {
   "cell_type": "code",
   "execution_count": null,
   "metadata": {
    "collapsed": true
   },
   "outputs": [],
   "source": [
    "# Good\n",
    "\n",
    "# 1\n",
    "if condition1 and condition2 or not condition3:\n",
    "    print('Looks good!')\n",
    "\n",
    "# 2\n",
    "if is_correct(a) and b == 10 or s == 'include':\n",
    "    print('Hurray!')"
   ]
  },
  {
   "cell_type": "markdown",
   "metadata": {},
   "source": [
    "**Note**: If you are trying to use the truth value of some object to drive the flow of your code, know that most empty objects have a truth value of `False` and an object with any value has a truth value of `True`. Also, use the truth value itself instead of using the comparison operator to check if the value is `True` or `False`."
   ]
  },
  {
   "cell_type": "code",
   "execution_count": null,
   "metadata": {
    "collapsed": true,
    "scrolled": true
   },
   "outputs": [],
   "source": [
    "# Bad\n",
    "\n",
    "condition1 = True\n",
    "condition2 = False\n",
    "\n",
    "if condition1 != False and condition2 is False:\n",
    "    print('Just use the truth value, don\\'t use comparison operators!')"
   ]
  },
  {
   "cell_type": "code",
   "execution_count": 8,
   "metadata": {},
   "outputs": [
    {
     "name": "stdout",
     "output_type": "stream",
     "text": [
      "This will print!\n",
      "You used the truth value to control the flow of the code! Nice!\n"
     ]
    }
   ],
   "source": [
    "# Good\n",
    "\n",
    "condition1 = True\n",
    "condition2 = False\n",
    "\n",
    "empty_list = [] # False\n",
    "zero_int = 0    # False\n",
    "empty_str = ''  # False\n",
    "\n",
    "non_empty_list = [1,2,3] # True\n",
    "non_zero_int = 5         # True\n",
    "non_empty_str = 'False'  # This one is tricky! Try it out.\n",
    "\n",
    "if empty_list or zero_int or empty_str:\n",
    "    print('This will not print!')\n",
    "    \n",
    "if non_empty_list and non_zero_int and non_empty_str:\n",
    "    print('This will print!')\n",
    "    \n",
    "if condition1 or condition2:\n",
    "    print('You used the truth value to control the flow of the code! Nice!')"
   ]
  },
  {
   "cell_type": "code",
   "execution_count": 7,
   "metadata": {},
   "outputs": [
    {
     "name": "stdout",
     "output_type": "stream",
     "text": [
      "Inside\n"
     ]
    }
   ],
   "source": [
    "non_e_s = 'False'\n",
    "if non_e_s:\n",
    "    print(\"Inside\")"
   ]
  },
  {
   "cell_type": "markdown",
   "metadata": {},
   "source": [
    "### Helper Functions\n",
    "\n",
    "We often write functions that involve multiple operations. Trying to understand the inner workings of a function that contains a lot of raw code can be overwhelming.\n",
    "\n",
    "To help our code's readability, we can write **helper functions**. These functions contain smaller portions of the overall goal. These smaller functions are then called by the main function. This way, we can more **logically segment** the steps we take to get to our finished product."
   ]
  },
  {
   "cell_type": "code",
   "execution_count": null,
   "metadata": {
    "collapsed": true
   },
   "outputs": [],
   "source": [
    "# Could be better\n",
    "\n",
    "# A dictionary of available courses and times\n",
    "course_dict = {'Linear Algebra': 'Tu/Th 1:10-2:25P', 'Intro to Programming': 'M/W 10:10-11:15A',\n",
    "               'Partial Differential Equations': 'Tu/Th 4:10-5:25P', 'Data Structures': 'M/W 8:50-10:05A',\n",
    "               'Spanish': 'Tu/Th 1:10-2:25P', 'French': 'M/W 10:10-11:15A', 'Italian': 'M/W 8:50-10:05A',\n",
    "               'Object Oriented Programming': 'Tu/Th 5:40-6:55P', 'Evolutionary Biology': 'M/W 1:10-2:25',\n",
    "               'Ornithology': 'M/W 4:10-5:25P', 'Icthyology': 'M/W 10:10-11:15A', 'Herpetology': 'Tu/Th 5:40-6:55P'}\n",
    "\n",
    "# This code allows a student to sign up for courses\n",
    "def student_signup(course_dict, student_sched = {}):\n",
    "    \"\"\"\n",
    "    Code that allows a student sign up for or drop courses.\n",
    "    There are checks for time conflicts and duplicate signups.\n",
    "    \n",
    "    Args:\n",
    "        student_sched: The student's current schedule -> dict\n",
    "    Return:\n",
    "        Dictionary of courses and times the student has signed up for -> dict\n",
    "    \"\"\"\n",
    "    while True:\n",
    "        if len(student_sched) == 5:\n",
    "            print('You are already registered for 5 courses.\\n')\n",
    "            \n",
    "            while True:\n",
    "                drop = input('Would you like to drop a course (Please enter Y or N)?')\n",
    "                \n",
    "                if drop.lower() == 'y':\n",
    "                    print('Your current courses:')\n",
    "                    for key, value in student_sched.items():\n",
    "                        print(f'Course: {key} - Time: {value}')\n",
    "                    print()\n",
    "                    \n",
    "                    while True:\n",
    "                        drop_course = input('Please choose a course to drop (by name): ')\n",
    "\n",
    "                        if drop_course not in student_sched:\n",
    "                            print('That course does not exist or you are not currently registered for it.\\n')\n",
    "                            continue\n",
    "                            \n",
    "                        del student_sched[drop_course]\n",
    "                        break\n",
    "                        \n",
    "                elif drop.lower() == 'n':\n",
    "                    return student_sched\n",
    "                \n",
    "                else:\n",
    "                    print('Sorry, I didn\\'t understand your input. Please respond with Y or N.\\n')\n",
    "                \n",
    "                continue\n",
    "            \n",
    "        print('Please choose a course from the following list:')\n",
    "        for key, value in course_dict.items():\n",
    "            print(f'Course: {key} - Time: {value}')\n",
    "        print()\n",
    "        \n",
    "        course = input('Please choose a course (by name): ')\n",
    "        \n",
    "        if course not in course_dict.keys():\n",
    "            print('That course is not currently offered, please choose another.\\n')\n",
    "            continue\n",
    "        \n",
    "        elif course in student_sched.keys():\n",
    "            print('You are already registered for that course.\\n')\n",
    "            continue\n",
    "        \n",
    "        elif course_dict[course] in student_sched.values():\n",
    "            print('You have a time conflict, you cannot register for that course.\\n')\n",
    "            continue\n",
    "        \n",
    "        else:\n",
    "            student_sched[course] = course_dict[course]\n",
    "            print(f'You have successfully registered for {course}!\\n')\n",
    "            \n",
    "            while True:\n",
    "                another_course = input('Would you like to register for another course (Please enter Y or N)?')\n",
    "                \n",
    "                if another_course.lower() == 'y':\n",
    "                    break\n",
    "                elif another_course.lower == 'n':\n",
    "                    return student_sched\n",
    "                else:\n",
    "                    print('Sorry, I didn\\'t understand your input. Please respond with Y or N.\\n')\n",
    "                "
   ]
  },
  {
   "cell_type": "code",
   "execution_count": 17,
   "metadata": {},
   "outputs": [
    {
     "name": "stdout",
     "output_type": "stream",
     "text": [
      "0\n",
      "1\n",
      "2\n",
      "3\n",
      "4\n",
      "5\n",
      "6\n",
      "7\n",
      "8\n",
      "9\n",
      "{'a': 11, 'b': 2, 'c': 3}\n"
     ]
    }
   ],
   "source": [
    "cdict = {\"a\":1,\"b\":2,\"c\":3}\n",
    "test = 1\n",
    "\n",
    "for i in range(10):\n",
    "    cdict[\"a\"] = cdict[\"a\"]+1\n",
    "    print(i)\n",
    "    \n",
    "\n",
    "\n",
    "# if test in cdict.keys():\n",
    "#     cdict[test]:\"new\"\n",
    "    \n",
    "print(cdict)"
   ]
  },
  {
   "cell_type": "code",
   "execution_count": null,
   "metadata": {
    "collapsed": true
   },
   "outputs": [],
   "source": [
    "# Good\n",
    "\n",
    "# Let's define some helper functions to make our function easier to understand\n",
    "\n",
    "def y_n_checker(prompt):\n",
    "    \"\"\"\n",
    "    Retrieves a response of y or n from the user based on some prompt.\n",
    "    \n",
    "    Args:\n",
    "        prompt: A prompt to ask the user -> str\n",
    "    \n",
    "    Return:\n",
    "        A boolean value indicating the user's response -> bool\n",
    "    \"\"\"\n",
    "    while True:\n",
    "        answer = input(prompt)\n",
    "        \n",
    "        if answer.lower() in ['y', 'yes']:\n",
    "            return True\n",
    "        \n",
    "        elif answer.lower() in ['n', 'no']:\n",
    "            return False\n",
    "        \n",
    "        else:\n",
    "            print('Sorry, I didn\\'t understand your input. Please respond with Y or N.\\n')\n",
    "            \n",
    "def conflict_check(course_name, course_dict, student_sched):\n",
    "    \"\"\"\n",
    "    Checks whether there is a conflict with the course that the student chose.\n",
    "    Checks if the course exists, if the student is already registered, or if there\n",
    "    is a time conflict.\n",
    "    \n",
    "    Args:\n",
    "        course_name: Name of the course -> str\n",
    "        course_dict: The dictionary of available courses -> dict\n",
    "        student_sched: The dictionary of the student's currently registered courses -> dict\n",
    "        \n",
    "    Return:\n",
    "        A boolean value indicating whether there is a conflict -> bool\n",
    "    \"\"\"\n",
    "    if course_name not in course_dict.keys():\n",
    "        print('That course is not currently offered, please choose another.\\n')\n",
    "        return True\n",
    "        \n",
    "    elif course_name in student_sched.keys():\n",
    "        print('You are already registered for that course.\\n')\n",
    "        return True\n",
    "        \n",
    "    elif course_dict[course_name] in student_sched.values():\n",
    "        print('You have a time conflict, you cannot register for that course.\\n')\n",
    "        return True\n",
    "    \n",
    "    else:\n",
    "        return False\n",
    "    \n",
    "def course_dropper(course_dict, student_sched):\n",
    "    \"\"\"\n",
    "    Attempts to drop a course from the student's schedule.\n",
    "    \n",
    "    Args:\n",
    "        course_dict: The dictionary of available courses -> dict\n",
    "        student_sched: The dictionary of the student's currently registered courses -> dict\n",
    "    \n",
    "    Return:\n",
    "        No return\n",
    "    \"\"\"\n",
    "    response = y_n_checker('Would you like to drop a course (Please enter Y or N)?')\n",
    "    if response:\n",
    "        print('Your current courses:')\n",
    "        for key, value in student_sched.items():\n",
    "            print(f'Course: {key} - Time: {value}')\n",
    "        print()\n",
    "\n",
    "        while True:\n",
    "            drop_course = input('Please choose a course to drop (by name): ')\n",
    "\n",
    "            if drop_course not in student_sched:\n",
    "                print('That course does not exist or you are not currently registered for it.\\n')\n",
    "                continue\n",
    "\n",
    "            del student_sched[drop_course]\n",
    "            break\n",
    "\n",
    "    else:\n",
    "        return student_sched\n",
    "    \n",
    "course_dict = {'Linear Algebra': 'Tu/Th 1:10-2:25P', 'Intro to Programming': 'M/W 10:10-11:15A',\n",
    "               'Partial Differential Equations': 'Tu/Th 4:10-5:25P', 'Data Structures': 'M/W 8:50-10:05A',\n",
    "               'Spanish': 'Tu/Th 1:10-2:25P', 'French': 'M/W 10:10-11:15A', 'Italian': 'M/W 8:50-10:05A',\n",
    "               'Object Oriented Programming': 'Tu/Th 5:40-6:55P', 'Evolutionary Biology': 'M/W 1:10-2:25',\n",
    "               'Ornithology': 'M/W 4:10-5:25P', 'Icthyology': 'M/W 10:10-11:15A', 'Herpetology': 'Tu/Th 5:40-6:55P'}\n",
    "\n",
    "# This code allows a student to sign up for courses\n",
    "def student_signup(course_dict, student_sched = {}):\n",
    "    \"\"\"\n",
    "    Code that allows a student sign up for or drop courses.\n",
    "    There are checks for time conflicts and duplicate signups.\n",
    "    \n",
    "    Args:\n",
    "        student_sched: The student's current schedule -> dict\n",
    "    Return:\n",
    "        Dictionary of courses and times the student has signed up for -> dict\n",
    "    \"\"\"\n",
    "    while True:\n",
    "        if len(student_sched) == 5:\n",
    "            print('You are already registered for 5 courses.\\n')\n",
    "            \n",
    "            # Execute drop_course helper function\n",
    "            course_dropper(course_dict, student_sched)\n",
    "            \n",
    "        print('Please choose a course from the following list:')\n",
    "        for key, value in course_dict.items():\n",
    "            print(f'Course: {key} - Time: {value}')\n",
    "        print()\n",
    "        \n",
    "        course_name = input('Please choose a course (by name): ')\n",
    "        \n",
    "        conflict_exists = conflict_check(course_name, course_dict, student_sched)\n",
    "        \n",
    "        if conflict_exists:\n",
    "            continue\n",
    "        \n",
    "        else:\n",
    "            student_sched[course_name] = course_dict[course_name]\n",
    "            print(f'You have successfully registered for {course_name}!\\n')\n",
    "\n",
    "            another_course = y_n_checker('Would you like to register for another course (Please enter Y or N)?')\n",
    "\n",
    "            if not another_course:\n",
    "                return student_sched"
   ]
  },
  {
   "cell_type": "code",
   "execution_count": 31,
   "metadata": {},
   "outputs": [
    {
     "name": "stdout",
     "output_type": "stream",
     "text": [
      "10\n"
     ]
    }
   ],
   "source": [
    "count = 10\n",
    "\n",
    "for i in range(count,11):\n",
    "    print(i)\n",
    "\n",
    "# while count>10:\n",
    "#     print(count)\n",
    "#     count = count - 1"
   ]
  },
  {
   "cell_type": "code",
   "execution_count": null,
   "metadata": {
    "collapsed": true
   },
   "outputs": [],
   "source": [
    "student_signup(course_dict)"
   ]
  },
  {
   "cell_type": "markdown",
   "metadata": {},
   "source": [
    "These are just a few good ways to improve the formatting of your code to make it is easier to read and digest. Try to adopt these habits!"
   ]
  },
  {
   "cell_type": "markdown",
   "metadata": {},
   "source": [
    "<a name='explicit'></a>\n",
    "\n",
    "## Explicit is Better than Implicit\n",
    "\n",
    "When in doubt, you should **write your code as explicitly as possible**. This means to be as literal as you can so there is no room for incorrect interpretation on the side of code reader."
   ]
  },
  {
   "cell_type": "markdown",
   "metadata": {},
   "source": [
    "### Naming Conventions Again\n",
    "\n",
    "We have already discussed naming conventions, but those concepts also apply to this aphorism. Choose names that are **descriptive and leave no room for interpretation or ambiguity**."
   ]
  },
  {
   "cell_type": "code",
   "execution_count": null,
   "metadata": {
    "collapsed": true
   },
   "outputs": [],
   "source": [
    "# Bad\n",
    "\n",
    "# 1\n",
    "x = 'John Smith'    # Not descriptive\n",
    "y, z = x.split()    # Not descriptive\n",
    "\n",
    "# 2\n",
    "def read(filename): # This is an implicit function\n",
    "    # Code for reading different file types\n",
    "    # depending on the file extension\n",
    "    pass"
   ]
  },
  {
   "cell_type": "code",
   "execution_count": 33,
   "metadata": {},
   "outputs": [
    {
     "name": "stdout",
     "output_type": "stream",
     "text": [
      "['this', 'is', 'a', 'string']\n"
     ]
    }
   ],
   "source": [
    "test = \"this is a string\"\n",
    "word = test.split()\n",
    "print(word)"
   ]
  },
  {
   "cell_type": "code",
   "execution_count": null,
   "metadata": {
    "collapsed": true
   },
   "outputs": [],
   "source": [
    "# Good\n",
    "\n",
    "# 1\n",
    "name = 'John Smith'\n",
    "first_name, last_name = name.split()\n",
    "\n",
    "# 2\n",
    "def read_csv(filename):  # This is an explicit function\n",
    "    # Code for reading a csv\n",
    "    pass\n",
    "    \n",
    "def read_json(filename): # This is an explicit function\n",
    "    # Code for reading a json\n",
    "    pass"
   ]
  },
  {
   "cell_type": "markdown",
   "metadata": {},
   "source": [
    "### Calling Objects from Modules and Packages"
   ]
  },
  {
   "cell_type": "markdown",
   "metadata": {},
   "source": [
    "Another opportunity for using explicit rather than implicit syntax is how you should refer to objects imported from modules and packages. You should try to refer to a module when calling a function or class from that module."
   ]
  },
  {
   "cell_type": "code",
   "execution_count": null,
   "metadata": {
    "collapsed": true
   },
   "outputs": [],
   "source": [
    "# Bad\n",
    "\n",
    "# 1\n",
    "from math import *\n",
    "r = 5\n",
    "area = pi * r**2\n",
    "\n",
    "# 2\n",
    "from requests import *\n",
    "response = get('www.yelp.com')"
   ]
  },
  {
   "cell_type": "code",
   "execution_count": null,
   "metadata": {
    "collapsed": true
   },
   "outputs": [],
   "source": [
    "# Good\n",
    "\n",
    "# 1\n",
    "import math\n",
    "r = 5\n",
    "# Explicitly calling pi from math\n",
    "circle_area = math.pi * r**2\n",
    "\n",
    "# 2\n",
    "import requests\n",
    "# Explicitly calling get from requests\n",
    "response = requests.get('www.yelp.com')"
   ]
  },
  {
   "cell_type": "markdown",
   "metadata": {},
   "source": [
    "**Note**: It is generally frowned upon to import all the objects within a module or package into your namespace like we did in the \"bad\" cell above. This can create conflicts with other objects you may have or will create in your namespace. When in doubt, it's better to explicitly call the objects from the correct module or package. For modules with very long names that you don't want to repeatedly write out, you can use an alias to shorten the module or package name. Two good examples are the `numpy` and `pandas` aliases, which are used universally. You can decide on your own aliases for other modules and packages."
   ]
  },
  {
   "cell_type": "code",
   "execution_count": null,
   "metadata": {
    "collapsed": true
   },
   "outputs": [],
   "source": [
    "# Alias example\n",
    "\n",
    "import numpy as np\n",
    "import pandas as pd\n",
    "\n",
    "# Using the np alias for numpy\n",
    "my_ary = np.array([1,2,3,4,5])\n",
    "\n",
    "# Using the pd alias for pandas\n",
    "my_df = pd.DataFrame([[1, 'a', 5.6],\n",
    "                      [2, 'b', 10.9]],\n",
    "                     columns = ['rank', 'name', 'return'])"
   ]
  },
  {
   "cell_type": "markdown",
   "metadata": {},
   "source": [
    "<a name='simple'></a>\n",
    "\n",
    "## Simple is Better Than Complex\n",
    "\n",
    "Try to write **simple** rather than overly complicated code. Recognizing when you can simplify your code comes with practice and experience. There are many **built-in Python functions** that you can use to simplify your code. Become familiar with these functions so you don't need to reinvent the wheel all the time."
   ]
  },
  {
   "cell_type": "code",
   "execution_count": 34,
   "metadata": {},
   "outputs": [
    {
     "name": "stdout",
     "output_type": "stream",
     "text": [
      "1 :  first\n",
      "2 :  second\n",
      "3 :  third\n",
      "{'Intro to Python': 98}\n",
      "{'Intro to Python': 98, 'R Data Analysis': 96}\n",
      "{'Intro to Python': 98, 'R Data Analysis': 96, 'Python Machine Learning': 89}\n"
     ]
    }
   ],
   "source": [
    "# Bad\n",
    "\n",
    "# All of these examples try to perform these operations\n",
    "# essentially from scratch. Look for more \"Pythonic\" ways\n",
    "# to write your code. It will look more professional.\n",
    "\n",
    "# 1\n",
    "my_investments = [1000, 2000, 3500]\n",
    "sum_of_investments = 0\n",
    "\n",
    "for investment in my_investments:\n",
    "    sum_of_investments += investment\n",
    "    \n",
    "# 2\n",
    "words = ['first', 'second', 'third']\n",
    "index = 1\n",
    "\n",
    "for word in words:\n",
    "    print(index, \": \", word)\n",
    "    index += 1\n",
    "    \n",
    "# 3\n",
    "classes = ['Intro to Python', 'R Data Analysis', 'Python Machine Learning']\n",
    "grades = [98, 96, 89]\n",
    "grade_dict = {}\n",
    "\n",
    "for idx in range(len(classes)):\n",
    "    grade_dict[classes[idx]] = grades[idx]\n",
    "    print(grade_dict)\n",
    "    \n",
    "# 4\n",
    "# This function requires use of the Counter class from\n",
    "# the collections module. Although this can be a very useful\n",
    "# class, consider whether we can use built-in Python tools.\n",
    "from collections import Counter\n",
    "\n",
    "def same_num_xo(xo_string):\n",
    "    xo_string = xo_string.lower()\n",
    "    counts = Counter(xo_string)\n",
    "    \n",
    "    if counts['x'] == counts['o']:\n",
    "        return True\n",
    "    \n",
    "    else:\n",
    "        return False"
   ]
  },
  {
   "cell_type": "code",
   "execution_count": 2,
   "metadata": {},
   "outputs": [
    {
     "name": "stdout",
     "output_type": "stream",
     "text": [
      "1: first\n",
      "2: second\n",
      "3: third\n",
      "{'Intro to Python': 98, 'R Data Analysis': 96, 'Python Machine Learning': 89}\n"
     ]
    }
   ],
   "source": [
    "# Good\n",
    "\n",
    "# All of these examples use built-in Python\n",
    "# functions to help simplify the code.\n",
    "\n",
    "# 1\n",
    "my_investments = [1000, 2000, 3500]\n",
    "sum_of_investments = sum(my_investments)\n",
    "\n",
    "# 2\n",
    "words = ['first', 'second', 'third']\n",
    "for idx, word in enumerate(words, 1):\n",
    "    print(f'{idx}: {word}')\n",
    "\n",
    "# 3\n",
    "classes = ['Intro to Python', 'R Data Analysis', 'Python Machine Learning']\n",
    "grades = [98, 96, 89]\n",
    "grade_dict = dict(zip(classes, grades))\n",
    "print(grade_dict)\n",
    "\n",
    "# 4 \n",
    "def same_num_xo(xo_string):\n",
    "    \"\"\"\n",
    "    CodeWars challenge. Checks if the given string has the same\n",
    "    number of x's and o's.\n",
    "    \n",
    "    Args:\n",
    "        xo_string: A string containing any characters -> str\n",
    "        \n",
    "    Return:\n",
    "        True or False based on the count of x's and o's -> bool\n",
    "    \"\"\"\n",
    "    s = s.lower()\n",
    "    return s.count('x') == s.count('o')"
   ]
  },
  {
   "cell_type": "code",
   "execution_count": 37,
   "metadata": {},
   "outputs": [
    {
     "name": "stdout",
     "output_type": "stream",
     "text": [
      "[11, 22, 33]\n"
     ]
    }
   ],
   "source": [
    "a = [10,20,30]\n",
    "b = [1,2,3]\n",
    "\n",
    "c = [a+b for a,b in zip(a,b)]\n",
    "print(c)"
   ]
  },
  {
   "cell_type": "markdown",
   "metadata": {},
   "source": [
    "## Complex is Better Than Complicated\n",
    "\n",
    "Although simple is often better than complex, sometimes problems require **complex solutions** to solve the problem efficiently. Don't try to oversimplify your solutions using base Python if a more complex approach gets the job done **better and in a more interpretable way**.\n",
    "\n",
    "Don't always try to oversimplify your code by using base Python classes. It is often the case that there are other more advanced classes which are more optimized for certain operations. Don't reinvent the wheel, because your \"wheel\" will often be more like a square when compared with the existing tools!"
   ]
  },
  {
   "cell_type": "code",
   "execution_count": 38,
   "metadata": {
    "collapsed": true
   },
   "outputs": [],
   "source": [
    "# Bad\n",
    "\n",
    "# 1\n",
    "# Consider the operation you're trying to perform and\n",
    "# whether there is a more appropriate data structure\n",
    "# that can be used to accomplish the task.\n",
    "list1 = range(1000)\n",
    "list2 = range(1000)\n",
    "total_list = []\n",
    "for idx in range(len(list1)):\n",
    "    total_list.append(list1[idx] + list2[idx])\n",
    "\n",
    "# 2\n",
    "# Finding the transpose of a matrix\n",
    "matrix_list = [[1,2,3],[4,5,6]]\n",
    "matrix_trans = list(zip(*matrix_list))\n",
    "\n",
    "# 3\n",
    "def pig_it(text):\n",
    "    text = text.split()\n",
    "    for i in range(len(text)):\n",
    "        if text[i].isalnum():\n",
    "            text[i] = text[i][1:] + text[i][0] + 'ay'\n",
    "    return ' '.join(text)"
   ]
  },
  {
   "cell_type": "code",
   "execution_count": 51,
   "metadata": {},
   "outputs": [
    {
     "name": "stdout",
     "output_type": "stream",
     "text": [
      "[3, 1]\n",
      "None\n"
     ]
    }
   ],
   "source": [
    "a = [1,3]\n",
    "b = a[::-1]\n",
    "print(b)\n",
    "print(a.reverse())"
   ]
  },
  {
   "cell_type": "code",
   "execution_count": null,
   "metadata": {
    "collapsed": true
   },
   "outputs": [],
   "source": [
    "# Good\n",
    "\n",
    "# Use other Python tools that may be more complex but \n",
    "# increase the efficiency and/or readability of your code.\n",
    "\n",
    "# 1\n",
    "# The numpy array is great for vector operations\n",
    "import numpy as np\n",
    "\n",
    "ary1 = np.arange(1000)\n",
    "ary2 = np.arange(1000)\n",
    "total_ary = ary1 + ary2\n",
    "\n",
    "# 2\n",
    "# Numpy also has a matrix data structure\n",
    "mat = np.matrix([[1,2,3],[4,5,6]])\n",
    "mat_trans = mat.T\n",
    "\n",
    "# 3\n",
    "def pig_it(text):\n",
    "    \"\"\"\n",
    "    CodeWars challenge. This function takes a sentence \n",
    "    and converts each word into pig Latin.\n",
    "    \n",
    "    Args:\n",
    "        text: A sentence -> str\n",
    "    \n",
    "    Return:\n",
    "        The sentence with each word converted to pig Latin\n",
    "    \"\"\"\n",
    "    lst = text.split()\n",
    "    \n",
    "    # Use list comprehensions in place of for loops\n",
    "    # when it's appropriate.\n",
    "    return ' '.join(word[1:] + word[:1] + 'ay'\n",
    "                    if word.isalpha()\n",
    "                    else word \n",
    "                    for word in lst)"
   ]
  },
  {
   "cell_type": "markdown",
   "metadata": {},
   "source": [
    "A great place to gain more exposure to complex coding approaches is on coding challenge websites like [HackerRank](https://www.hackerrank.com/) and [CodeWars](https://www.codewars.com/). There will often be different test cases to gauge the correctness of your solution. The last few cases generally test the efficiency of your code and will not pass if your code takes too long to run. When you work on these problems, try to solve them on your own first. If after a few tries you can't come up with a solution or your solution only passes the first few test cases, check the **discussion board** for that problem. You can find solutions from other coders, and users on the site can upvote more popular answers. Reading these popular solutions helps immensely to **increase your coding maturity**. Make sure to really dig into the code to see how these solutions differ from your own, and try to indentify areas for optimization."
   ]
  },
  {
   "cell_type": "markdown",
   "metadata": {},
   "source": [
    "<a name='flat'></a>\n",
    "\n",
    "## Flat is Better Than Nested\n",
    "\n",
    "When we **nest operations** within eachother, the logic becomes more difficult to follow. There are some situations where we can't avoid this, but if it can be avoided you should try to **keep your code as flat as possible**."
   ]
  },
  {
   "cell_type": "code",
   "execution_count": null,
   "metadata": {
    "collapsed": true
   },
   "outputs": [],
   "source": [
    "# Bad\n",
    "\n",
    "# 1\n",
    "condition1, condition2, condition3 = False, True, False\n",
    "if condition1:\n",
    "    print('This prints if only condition1 is True.')\n",
    "else:\n",
    "    if condition2:\n",
    "        print('Use elif instead of nested if/else.')\n",
    "    else:\n",
    "        if condition3:\n",
    "            print('Using elif will be easier to read.')\n",
    "        else:\n",
    "            print('Avoid these nested if/else statements.')\n",
    "        \n",
    "# 2\n",
    "num_range = range(1,20)\n",
    "odd_numbers = []\n",
    "\n",
    "for num in num_range:\n",
    "    if num % 2 == 1:\n",
    "        odd_numbers.append(num)"
   ]
  },
  {
   "cell_type": "code",
   "execution_count": null,
   "metadata": {
    "collapsed": true
   },
   "outputs": [],
   "source": [
    "# Good\n",
    "\n",
    "# 1\n",
    "# Multiple control flow conditions\n",
    "condition1, condition2, condition3 = False, False, False\n",
    "if condition1:\n",
    "    print('This prints if only condition1 is True.')\n",
    "elif condition2:\n",
    "    print('This prints if condition1 is False and condition2 is True.')\n",
    "elif condition3:\n",
    "    print('This prints if both condition1 and condition2 are False and condition3 is True.')\n",
    "else:\n",
    "    print('This prints if condition1, condition2, and condition3 are False.')\n",
    "        \n",
    "# 2\n",
    "# Use list comprehension instead of for loops\n",
    "# when possible.\n",
    "num_range = range(1,20)\n",
    "odd_numbers = [num for num in num_range if num % 2 == 1]"
   ]
  },
  {
   "cell_type": "markdown",
   "metadata": {},
   "source": [
    "### Modules and Packages\n",
    "\n",
    "When writing code for modules and packages, try not to have too many **levels of nested objects**. Design your code so you don't need to nest classes within classes or sub sub modules within sub modules. Prefer **shallow, rather than deep**, nesting. If importing functionality from your package requires a statement such as `import package.module.submodule.subsubmod.function`, reconsider how you are organizing your code."
   ]
  },
  {
   "cell_type": "markdown",
   "metadata": {},
   "source": [
    "<a name='sparse'></a>\n",
    "\n",
    "## Sparse is Better than Dense\n",
    "\n",
    "Although we should try to write concise code, don't do so at the expense of readbility. Don't try to write code all on one line when you can write the same code on multiple lines in a more interpretable way. This will infuriate your coworkers when they try to decipher your super dense lines of code. There's a **delicate balance** here that you should try to reach.\n",
    "\n",
    "Don't confuse striving for sparsity with reducing the efficiency of your code. Your goal should still be efficiency, but try to do so in a way where the code is still easy to read."
   ]
  },
  {
   "cell_type": "code",
   "execution_count": null,
   "metadata": {
    "collapsed": true,
    "scrolled": true
   },
   "outputs": [],
   "source": [
    "# Bad\n",
    "\n",
    "# 1\n",
    "print('\\n'.join(\"%i bytes = %i bits which has %i possible values.\" % (j, j*8, 256**j-1) for j in (1 << i for i in range(8))))\n",
    "\n",
    "# 2\n",
    "is_raining = True\n",
    "have_umbrella = True\n",
    "umbrella_has_holes = False\n",
    "\n",
    "wet_level = ('dry' if have_umbrella and umbrella_works\n",
    "             else 'damp' if is_raining and have_umbrella and umbrella_has_holes\n",
    "             else 'drenched' if is_raining and not have_umbrella\n",
    "             else 'dry')\n",
    "\n",
    "# 3\n",
    "list(filter(lambda val: val % 2 == 0, map(lambda num: num**2, range(10))))"
   ]
  },
  {
   "cell_type": "code",
   "execution_count": 52,
   "metadata": {
    "scrolled": true
   },
   "outputs": [
    {
     "ename": "NameError",
     "evalue": "name 'umbrella_works' is not defined",
     "output_type": "error",
     "traceback": [
      "\u001b[1;31m---------------------------------------------------------------------------\u001b[0m",
      "\u001b[1;31mNameError\u001b[0m                                 Traceback (most recent call last)",
      "\u001b[1;32m<ipython-input-52-00ba4332acbc>\u001b[0m in \u001b[0;36m<module>\u001b[1;34m()\u001b[0m\n\u001b[0;32m     11\u001b[0m \u001b[0mumbrella_has_holes\u001b[0m \u001b[1;33m=\u001b[0m \u001b[1;32mTrue\u001b[0m\u001b[1;33m\u001b[0m\u001b[0m\n\u001b[0;32m     12\u001b[0m \u001b[1;33m\u001b[0m\u001b[0m\n\u001b[1;32m---> 13\u001b[1;33m \u001b[1;32mif\u001b[0m \u001b[0mhave_umbrella\u001b[0m \u001b[1;32mand\u001b[0m \u001b[0mumbrella_works\u001b[0m\u001b[1;33m:\u001b[0m\u001b[1;33m\u001b[0m\u001b[0m\n\u001b[0m\u001b[0;32m     14\u001b[0m     \u001b[0mwet_level\u001b[0m \u001b[1;33m=\u001b[0m \u001b[1;34m'dry'\u001b[0m\u001b[1;33m\u001b[0m\u001b[0m\n\u001b[0;32m     15\u001b[0m \u001b[1;32melif\u001b[0m \u001b[0mis_raining\u001b[0m \u001b[1;32mand\u001b[0m \u001b[0mhave_umbrella\u001b[0m \u001b[1;32mand\u001b[0m \u001b[0mumbrella_has_holes\u001b[0m\u001b[1;33m:\u001b[0m\u001b[1;33m\u001b[0m\u001b[0m\n",
      "\u001b[1;31mNameError\u001b[0m: name 'umbrella_works' is not defined"
     ]
    }
   ],
   "source": [
    "# Good\n",
    "\n",
    "# 1\n",
    "byte_value_gen = (1 << num for num in range(8))\n",
    "fmt_string = \"{0} bytes = {1} bits which has {2} possible values.\"\n",
    "#print('\\n'.join(fmt_string.format(byte, byte*8, 256**byte-1) for byte in byte_value_gen))\n",
    "\n",
    "# 2\n",
    "is_raining = True\n",
    "have_umbrella = True\n",
    "umbrella_has_holes = True\n",
    "\n",
    "if have_umbrella and umbrella_works:\n",
    "    wet_level = 'dry'\n",
    "elif is_raining and have_umbrella and umbrella_has_holes:\n",
    "    wet_level = 'damp'\n",
    "elif is_raining and not have_umbrella:\n",
    "    wet_level = 'drenched'\n",
    "else:\n",
    "    wet_level = 'dry'\n",
    "\n",
    "# 3a\n",
    "num_range = range(10)\n",
    "sqr_nums = map(lambda num: num**2, num_range)\n",
    "even_sqr_nums = list(filter(lambda val: val % 2 == 0, sqr_nums))\n",
    "print(even_sqr_nums)\n",
    "\n",
    "# 3b, even better\n",
    "even_sqr_nums = [num**2 for num in range(10) if num**2 % 2 == 0]\n",
    "#print(even_sqr_nums)"
   ]
  },
  {
   "cell_type": "code",
   "execution_count": 53,
   "metadata": {},
   "outputs": [
    {
     "name": "stdout",
     "output_type": "stream",
     "text": [
      "[0, 4, 16, 36, 64]\n"
     ]
    }
   ],
   "source": [
    "num_range = range(10)\n",
    "sqr_nums = map(lambda num: num**2, num_range)\n",
    "even_sqr_nums = list(filter(lambda val: val % 2 == 0, sqr_nums))\n",
    "print(even_sqr_nums)"
   ]
  },
  {
   "cell_type": "code",
   "execution_count": 62,
   "metadata": {},
   "outputs": [
    {
     "data": {
      "text/plain": [
       "[0, 2, 4, 6, 8, 10, 12, 14, 16, 18]"
      ]
     },
     "execution_count": 62,
     "metadata": {},
     "output_type": "execute_result"
    }
   ],
   "source": [
    "num_range = range(10)\n",
    "twice_nums = list(map(lambda x: x*2, num_range))\n",
    "filtered = list(filter(lambda even: even%2 == 0, twice_nums))\n",
    "filtered"
   ]
  },
  {
   "cell_type": "markdown",
   "metadata": {},
   "source": [
    "**Note**: If/else one-liners are generally OK if the conditions aren't too complicated. For example:\n",
    "\n",
    "`is_even = True if num % 2 == 0 else False`"
   ]
  },
  {
   "cell_type": "markdown",
   "metadata": {},
   "source": [
    "<a name='errors'></a>\n",
    "\n",
    "## Errors Should Never Pass Silently (Unless Explicitly Silenced)\n",
    "\n",
    "When handling errors in Python, make sure you are **aware** of what exceptions are being raised. It is often necessary to handle exceptions differently based on what error occured. For example, let's say we want to find the reciprocal of each element in a list. Make sure that you **handle different exception types correctly**."
   ]
  },
  {
   "cell_type": "code",
   "execution_count": null,
   "metadata": {
    "collapsed": true
   },
   "outputs": [],
   "source": [
    "# Bad\n",
    "value_list = ['word', 0, 50]\n",
    "\n",
    "for val in value_list:\n",
    "    try:\n",
    "        reciprocal = 1/int(val)\n",
    "    except:\n",
    "        pass\n",
    "    else:\n",
    "        print(f'The reciprocal of {val} is: {reciprocal}')"
   ]
  },
  {
   "cell_type": "code",
   "execution_count": null,
   "metadata": {
    "collapsed": true
   },
   "outputs": [],
   "source": [
    "# Good\n",
    "value_list = ['word', 0, 50]\n",
    "\n",
    "for val in value_list:\n",
    "    try:\n",
    "        print(f'The value is: {val}')\n",
    "        reciprocal = 1/int(val)\n",
    "    except Exception as e:\n",
    "        print(type(e), e)\n",
    "    else:\n",
    "        print(f'No error occurred. The reciprocal is: {reciprocal}')"
   ]
  },
  {
   "cell_type": "markdown",
   "metadata": {},
   "source": [
    "Notice in the bad example above, **we aren't notified** in any way when we get an error while trying to calculate the reciprocal of two of the three elements. In this simple example, we can see that if we had three valid values in our `value_list`, then we should end up with three reciprocals. However, in a more complicated example when we're applying some operation to many elements, the errors can be accidentally ignored which could cause serious problems with our result (namely we would have a bunch of missing values). The key idea here is that **these issues would be unknown to us because of the silent error handling**.\n",
    "\n",
    "The good example **catches every exception type** and prints out the type and the error message so we know when any kind of error is occurring.\n",
    "\n",
    "Let's consider another example. In the example below, we have a list of dates as strings. We want to convert these strings into true `datetime` objects."
   ]
  },
  {
   "cell_type": "code",
   "execution_count": null,
   "metadata": {
    "collapsed": true,
    "scrolled": true
   },
   "outputs": [],
   "source": [
    "# Bad\n",
    "\n",
    "from datetime import datetime\n",
    "\n",
    "string_dates = ['July 5, 2018', 'Oct 16, 2017', 'September 13, 2020',\n",
    "                '01/10/2016', 'May 27, 2015', 'April 34, 2019']\n",
    "datetime_dates = []\n",
    "\n",
    "for date in string_dates:\n",
    "    try:\n",
    "        parsed_date = datetime.strptime(date, \"%B %d, %Y\")\n",
    "        datetime_dates.append(parsed_date)\n",
    "    except:\n",
    "        datetime_dates.append(None)"
   ]
  },
  {
   "cell_type": "markdown",
   "metadata": {},
   "source": [
    "Because we passed the exceptions silently, we have **no evidence** that there were a few issues while parsing the date strings. When we look closer at our list of date strings, we can see that 'Oct' is abreviated, the January date is in a different format, and the April date has the day 34.\n",
    "\n",
    "Let's run this again with **better exception handling**."
   ]
  },
  {
   "cell_type": "code",
   "execution_count": null,
   "metadata": {
    "collapsed": true
   },
   "outputs": [],
   "source": [
    "# Good\n",
    "\n",
    "from datetime import datetime\n",
    "\n",
    "string_dates = ['July 5, 2018', 'Oct 16, 2017', 'September 13, 2020',\n",
    "                '01/10/2016', 'May 27, 2015', 'April 34, 2019']\n",
    "datetime_dates = []\n",
    "\n",
    "for idx, date in enumerate(string_dates):\n",
    "    try:\n",
    "        parsed_date = datetime.strptime(date, \"%B %d, %Y\")\n",
    "        datetime_dates.append(parsed_date)\n",
    "    except Exception as e:\n",
    "        print(f'{type(e)} occurred for element at index: {idx}')\n",
    "        print(e)\n",
    "        datetime_dates.append(None)"
   ]
  },
  {
   "cell_type": "markdown",
   "metadata": {},
   "source": [
    "Now we have output that **alerts us** that we are encountering errors in our date parsing operation. For a list of thousands of dates, this can be very helpful so that we're not blindly adding `None` to our data when we can potentially avoid it.\n",
    "\n",
    "For these formatting issues, we can try the most common formats and only replace with `None` if the date is in a difficult or invalid format. Next, we'll write a function that checks if our date can be parsed by some common date formats. We can pass the errors silently within this function because our main operation will alert us if a date cannot be parsed (since the function will return the most common format if a working format can't be found, which will raise an exception in the main operation)."
   ]
  },
  {
   "cell_type": "code",
   "execution_count": null,
   "metadata": {
    "collapsed": true,
    "scrolled": true
   },
   "outputs": [],
   "source": [
    "# Better\n",
    "\n",
    "from datetime import datetime\n",
    "\n",
    "# Helper function!\n",
    "def date_fmt_checker(date_string, formats):\n",
    "    \"\"\"\n",
    "    Returns the correct format (from a list) for parsing a date string.\n",
    "    \n",
    "    Args:\n",
    "        date_string: A date in string format -> str\n",
    "        formats: A list of strings which represent datetime parsing formats -> list\n",
    "    \n",
    "    Return:\n",
    "        The format to use for parsing or the default format if none are correct -> str\n",
    "    \"\"\"\n",
    "    from datetime import datetime\n",
    "    \n",
    "    for fmt in formats:\n",
    "        try:\n",
    "            date = datetime.strptime(date_string, fmt)\n",
    "            return fmt\n",
    "        except:\n",
    "            pass\n",
    "        \n",
    "    return '%B %d, %Y'\n",
    "\n",
    "string_dates = ['July 5, 2018', 'Oct 16, 2017', 'September 13, 2020',\n",
    "                '01/10/2016', 'May 27, 2015', 'April 34, 2019']\n",
    "datetime_dates = []\n",
    "formats = ['%B %d, %Y', '%b %d, %Y', '%m/%d/%Y']\n",
    "\n",
    "for idx, date in enumerate(string_dates):\n",
    "    fmt = date_fmt_checker(date, formats)\n",
    "    try:\n",
    "        parsed_date = datetime.strptime(date, fmt)\n",
    "        datetime_dates.append(parsed_date)\n",
    "    except Exception as e:\n",
    "        print(f'{type(e)} occurred for element at index: {idx}')\n",
    "        print(e)\n",
    "        datetime_dates.append(None)\n",
    "        \n",
    "datetime_dates"
   ]
  },
  {
   "cell_type": "markdown",
   "metadata": {},
   "source": [
    "Now we can see that most of our dates are parsed successfully. Unfortunately, the April date is still a problem because the day value is invalid. This can be handled separately by doing some **data cleaning**, although the true date is most likely lost because of the ambiguity. Is it April 30th? April 3rd? April 4th? Without additional information we may never know..."
   ]
  },
  {
   "cell_type": "markdown",
   "metadata": {},
   "source": [
    "### Raising Errors\n",
    "\n",
    "Sometimes we may need to raise errors if an operation is legal in Python but doesn't make sense in the context of our use case. For example, let's consider a function that calculates volume:"
   ]
  },
  {
   "cell_type": "code",
   "execution_count": null,
   "metadata": {
    "collapsed": true
   },
   "outputs": [],
   "source": [
    "def calc_volume(x, y, z):\n",
    "    \"\"\"Takes three dimensions and calculates volume.\n",
    "    \n",
    "    Args:\n",
    "        x: Value of the first dimension -> int/float\n",
    "        y: Value of the second dimension -> int/float\n",
    "        z: Value of the third dimension -> int/float\n",
    "        \n",
    "    Return:\n",
    "        The volume of the shape -> int/float\n",
    "    \"\"\"\n",
    "    return x*y*z"
   ]
  },
  {
   "cell_type": "markdown",
   "metadata": {},
   "source": [
    "This seems simple enough. However, what happens if we pass a zero or negative value to our function?"
   ]
  },
  {
   "cell_type": "code",
   "execution_count": null,
   "metadata": {
    "collapsed": true,
    "scrolled": true
   },
   "outputs": [],
   "source": [
    "calc_volume(-2, 5, 6)"
   ]
  },
  {
   "cell_type": "markdown",
   "metadata": {},
   "source": [
    "This operation is completely legal from a coding perspective, but in our case it wouldn't make sense to have a zero or negative volume. We can add a check to see if any of the dimensions are equal to or less than zero and then alert the user that there's an issue if this is the case."
   ]
  },
  {
   "cell_type": "code",
   "execution_count": null,
   "metadata": {
    "collapsed": true
   },
   "outputs": [],
   "source": [
    "def calc_volume(x, y, z):\n",
    "    \"\"\"Takes three dimensions and calculates volume.\n",
    "    \n",
    "    Args:\n",
    "        x: Value of the first dimension -> int/float\n",
    "        y: Value of the second dimension -> int/float\n",
    "        z: Value of the third dimension -> int/float\n",
    "        \n",
    "    Return:\n",
    "        The volume of the shape -> int/float\n",
    "    \"\"\"\n",
    "    if x <= 0 or y <= 0 or z <= 0:\n",
    "        raise ValueError('Dimensions must have a value greater than 0!')\n",
    "    \n",
    "    return x*y*z"
   ]
  },
  {
   "cell_type": "markdown",
   "metadata": {},
   "source": [
    "Now when we try to pass innapropriate values for our dimensions, our code won't run."
   ]
  },
  {
   "cell_type": "code",
   "execution_count": null,
   "metadata": {
    "collapsed": true
   },
   "outputs": [],
   "source": [
    "calc_volume(-2, 5, 6)"
   ]
  },
  {
   "cell_type": "markdown",
   "metadata": {},
   "source": [
    "Try to think about what might go wrong when your code is used. Don't be afraid to raise your own errors where appropriate; errors are here to help!"
   ]
  },
  {
   "cell_type": "markdown",
   "metadata": {},
   "source": [
    "<a name='ambiguity'></a>\n",
    "\n",
    "## In the Face of Ambiguity, Refuse the Temptation to Guess\n",
    "\n",
    "This idea is related to the \"Explicit\" section. Ambiguity is a scary concept for programmers. Why? Because **ambiguity leaves room for interpretation**. The solution or approach to solving a problem should be clear and should not need any explanation beyond what is given.\n",
    "\n",
    "This can be difficult to implement with larger chunks of code (we can use commenting and documentation to help!), but a good way to avoid situations with ambiguity is to use tools and data structures that are appropriate to the situation."
   ]
  },
  {
   "cell_type": "code",
   "execution_count": null,
   "metadata": {
    "collapsed": true
   },
   "outputs": [],
   "source": [
    "# Bad\n",
    "\n",
    "# 1\n",
    "condition1 = True\n",
    "condition2 = True\n",
    "\n",
    "if not condition1 or condition2: # What is the order of operations here?\n",
    "    print('Hello World')\n",
    "else:\n",
    "    print('Bye World')\n",
    "    \n",
    "# 2\n",
    "import numpy as np\n",
    "\n",
    "ary = np.arange(10)\n",
    "print(ary < 6)\n",
    "\n",
    "# Why does this raise an exception?\n",
    "if ary < 6:\n",
    "    print('There are values less than 6 in the array.')"
   ]
  },
  {
   "cell_type": "markdown",
   "metadata": {},
   "source": [
    "In the two examples above, there is ambiguity in the code. The ambiguity may be clear to more advanced programmers, but **you should not assume** that whoever is reading your code will be able to navigate through the confusion.\n",
    "\n",
    "For the first example, we are running into an issue with **operator precedence**. A full table of operator precedence can be found [here](https://docs.python.org/3/reference/expressions.html#operator-precedence) (the table starts with least priority and goes to highest priority). As we can see in the table, the `not` operator is **higher priority** than the `or` operator. If our intention in this code is to evaluate the expression `condition1 or condition2` first, we should **wrap that expression in parentheses**.\n",
    "\n",
    "For the second example, we create a numpy array of 10 values. If we evaluate the expression `ary < 6`, a **boolean array** is returned where each value indicates whether that element in the original array is less than 6. This is called **broadcasting**, where we apply an operation to each individual array element, and this is a very useful property of numpy arrays! However, if we try to evaluate the absolute truth value of the boolean array we get an error. This is because the array as a whole cannot be determined to be `True` or `False` without some additional work. The array class in numpy has some methods we can use to **aggregate the values** to a single truth value, namely the `any()` and `all()` methods."
   ]
  },
  {
   "cell_type": "code",
   "execution_count": null,
   "metadata": {
    "collapsed": true
   },
   "outputs": [],
   "source": [
    "# Good\n",
    "\n",
    "# 1\n",
    "condition1 = True\n",
    "condition2 = True\n",
    "\n",
    "if not (condition1 or condition2): # Order is clear\n",
    "    print('Hello World')\n",
    "else:\n",
    "    print('Bye World')\n",
    "    \n",
    "# 2\n",
    "import numpy as np\n",
    "\n",
    "ary = np.arange(10)\n",
    "less_than_six = ary < 6\n",
    "less_than_eleven = ary < 11\n",
    "print(less_than_six.any())\n",
    "\n",
    "if less_than_six.any(): # This method applies or to each element\n",
    "    print('There are values less than 6 in the array.')\n",
    "\n",
    "if less_than_eleven.all(): # This method applies and to each element\n",
    "    print('All the elements in the array are less than 11.')"
   ]
  },
  {
   "cell_type": "code",
   "execution_count": 5,
   "metadata": {},
   "outputs": [
    {
     "name": "stdout",
     "output_type": "stream",
     "text": [
      "(4, 6)\n"
     ]
    }
   ],
   "source": [
    "# Find an item with maximum occurences in a list\n",
    "from collections import defaultdict\n",
    "\n",
    "L = [1,2,45,55,5,4,4,4,4,4,4,5456,56,6,7,67]\n",
    "d = defaultdict(int)\n",
    "for i in L:\n",
    "    d[i] += 1\n",
    "result = max(d.items(), key=lambda x: x[1])\n",
    "print(result)\n",
    "# (4, 6)\n",
    "# The number 4 occurs 6 times"
   ]
  },
  {
   "cell_type": "code",
   "execution_count": 8,
   "metadata": {},
   "outputs": [
    {
     "name": "stdout",
     "output_type": "stream",
     "text": [
      "index: 0\n",
      "res: -2\n",
      "min_prefix_sum: -2\n",
      "index: 1\n",
      "res: -2\n",
      "min_prefix_sum: -5\n",
      "index: 2\n",
      "res: 4\n",
      "min_prefix_sum: -5\n",
      "index: 3\n",
      "res: 4\n",
      "min_prefix_sum: -5\n",
      "index: 4\n",
      "res: 4\n",
      "min_prefix_sum: -5\n",
      "index: 5\n",
      "res: 4\n",
      "min_prefix_sum: -5\n",
      "index: 6\n",
      "res: 7\n",
      "min_prefix_sum: -5\n",
      "index: 7\n",
      "res: 7\n",
      "min_prefix_sum: -5\n",
      "7\n"
     ]
    }
   ],
   "source": [
    "#Concept of Min_prefix_sum\n",
    "\n",
    "import math \n",
    "  \n",
    "# Function to compute maximum \n",
    "# subarray sum in linear time. \n",
    "def maximumSumSubarray(arr, n): \n",
    "      \n",
    "    # Initialize minimum prefix \n",
    "    # sum to 0. \n",
    "    min_prefix_sum = 0\n",
    "  \n",
    "    # Initialize maximum subarray \n",
    "    # sum so far to -infinity. \n",
    "    res = -math.inf \n",
    "  \n",
    "    # Initialize and compute the  \n",
    "    # prefix sum array. \n",
    "    prefix_sum = [] \n",
    "    prefix_sum.append(arr[0]) \n",
    "      \n",
    "    for i in range(1, n): \n",
    "        prefix_sum.append(prefix_sum[i - 1] + arr[i])      \n",
    "  \n",
    "    # loop through the array keep \n",
    "    # track of minimum prefix sum \n",
    "    # so far and maximum subarray  \n",
    "    # sum. \n",
    "    for i in range(n): \n",
    "        print(\"index:\", i)  \n",
    "        res = max(res, prefix_sum[i] - min_prefix_sum) \n",
    "        print(\"res:\",res)\n",
    "        min_prefix_sum = min(min_prefix_sum, prefix_sum[i]) \n",
    "        print(\"min_prefix_sum:\",min_prefix_sum)\n",
    "      \n",
    "    return res \n",
    "  \n",
    "\n",
    "arr1 = [ -2, -3, 4, -1, -2, 1, 5, -3 ] \n",
    "n1 = len(arr1) \n",
    "print(maximumSumSubarray(arr1, n1)) "
   ]
  },
  {
   "cell_type": "code",
   "execution_count": 14,
   "metadata": {},
   "outputs": [
    {
     "name": "stdout",
     "output_type": "stream",
     "text": [
      "The popped and smallest element is : [1]\n",
      "The 3 largest numbers in list are : [11, 10, 9]\n"
     ]
    }
   ],
   "source": [
    "import heapq\n",
    "# Heap data structure is mainly used to represent a priority queue. \n",
    "# In Python, it is available using “heapq” module. The property of this data structure in Python is \n",
    "# that each time the smallest of heap element is popped(min heap). Whenever elements are pushed or popped, \n",
    "# heap structure in maintained. The heap[0] element also returns the smallest element each time.\n",
    "\n",
    "\n",
    "li1 = [11, 7, 9, 4, 3, 5, 8, 10, 1] \n",
    "# using heappop() to pop smallest element \n",
    "print (\"The popped and smallest element is : \",end=\"\") \n",
    "print (heapq.nsmallest(1,li1)) \n",
    "\n",
    "print(\"The 3 largest numbers in list are : \",end=\"\") \n",
    "print(heapq.nlargest(3, li1))"
   ]
  },
  {
   "cell_type": "markdown",
   "metadata": {},
   "source": [
    "These are just a few tools we can use to reduce the ambiguity of our code. Sometimes, the code may not even run until we eliminate the ambiguity (like in the array example), but the more **dangerous cases are when the ambiguous code runs without error**. Put effort into making sure that your code is **devoid of ambiguity**, it will make a big difference in the long run!"
   ]
  },
  {
   "cell_type": "markdown",
   "metadata": {},
   "source": [
    "<a name='hardtoexplain'></a>\n",
    "\n",
    "## If the Implementation is Hard to Explain, It’s a Bad Idea. If the Implementation is Easy to Explain, It May Be a Good Idea.\n",
    "\n",
    "These two aphorisms are related to the **logic of your code**. If you have difficulty explaining your code logic to a separate party, chances are that the code will be even more difficult to understand when you're not there to walk them through it. Your code should be **self-explanatory** because you will not always be available to help others. Even if you have the most efficient, robust, and portable solution possible, **the code will be useless if it is too difficult to understand**.\n",
    "\n",
    "That being said, don't confuse code that is easy to explain with the best possible solution. The idea here is that it _may_ be a good solution. Always **consider different ways to code up the same logic** and make a judgment call to balance efficiency and robustness with ease of understanding."
   ]
  },
  {
   "cell_type": "markdown",
   "metadata": {},
   "source": [
    "<a name='now'></a>\n",
    "\n",
    "## Now is Better Than Never. Although Never is Often Better Than *Right* Now.\n",
    "\n",
    "When you are writing functions, classes, and even modules, it's a good idea to **think to the future**. How will this code be used? How will the code be updated to have additional functionality? How can we write the code so it is easier to update and improve? These are all important points to consider when formatting and structuring our code.\n",
    "\n",
    "However, although we should keep these points in mind, **don't go overboard** trying to make your code unreasonably robust. Implement the tools you know you will need, and try to limit the functionality that _may_ be used in the future. There are a number of reasons for doing this:\n",
    "\n",
    "1. The additional functionality may never be used, which means you wasted time creating tools that don't have value.\n",
    "2. The tools you add may need to be used in a way different from how you first intended.\n",
    "3. Additional functionality generally means higher code complexity. This means you're requiring the user to parse more complicated code. Make sure the functionality you add is relevant to the user.\n",
    "\n",
    "Try to get something working that **solves the immediate issues**. You can always go back and update the code to implement additional functionality. Remember to use **version control** (GitHub) so you can revert to previous versions if the updates break your code!"
   ]
  },
  {
   "cell_type": "markdown",
   "metadata": {},
   "source": [
    "## Conclusion\n",
    "\n",
    "Congratulations! You've taken your first step towards writing more interpretable code. As you mature as a programmer, remember these aphorisms, and look for places where you can incorporate these concepts. It will take directed effort at first, but as you continue to use these good practices they will become second nature. Whatever formatting practice you end up using, make sure to **always be consistent**! Let's work together to adopt these conventions so that we can easily share code and collaborate!"
   ]
  },
  {
   "cell_type": "markdown",
   "metadata": {},
   "source": [
    "## References\n",
    "\n",
    "- [PEP 8 -- Style Guide for Python Code](https://www.python.org/dev/peps/pep-0008/)\n",
    "- [PEP 20 -- The Zen of Python](https://www.python.org/dev/peps/pep-0020/)\n",
    "- [How to Write Beautiful Python Code With PEP 8 - Real Python](https://realpython.com/python-pep8/)\n",
    "- [Python Pro Tips: Understanding Explicit Is Better Than Implicit - Miguel González-Fierro](https://miguelgfierro.com/blog/2018/python-pro-tips-understanding-explicit-is-better-than-implicit/#:~:text=In%20the%20explicit%20behavior%2C%20it,the%20code%20is%20called%20get.&text=An%20implicit%20behavior%20would%20have,manage%20internally%20the%20different%20inputs.)\n",
    "- [How to Make Your Python Code More Elegant - Hannibal Liang](https://medium.com/better-programming/how-to-make-python-programming-more-elegant-and-decent-4b5962695aa9)\n",
    "- [Contemplating the Zen of Python - Chaitanya Baweja](https://medium.com/better-programming/contemplating-the-zen-of-python-186722b833e5)\n",
    "- [Some examples from CodeWars.com](https://www.codewars.com/)"
   ]
  }
 ],
 "metadata": {
  "kernelspec": {
   "display_name": "Python 3",
   "language": "python",
   "name": "python3"
  },
  "language_info": {
   "codemirror_mode": {
    "name": "ipython",
    "version": 3
   },
   "file_extension": ".py",
   "mimetype": "text/x-python",
   "name": "python",
   "nbconvert_exporter": "python",
   "pygments_lexer": "ipython3",
   "version": "3.6.3"
  }
 },
 "nbformat": 4,
 "nbformat_minor": 2
}
